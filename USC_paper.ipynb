{
  "nbformat": 4,
  "nbformat_minor": 0,
  "metadata": {
    "colab": {
      "name": "Overview of Colaboratory Features",
      "provenance": [],
      "collapsed_sections": [],
      "toc_visible": true
    },
    "kernelspec": {
      "display_name": "Python 3",
      "name": "python3"
    }
  },
  "cells": [
    {
      "cell_type": "markdown",
      "metadata": {
        "colab_type": "text",
        "id": "JyG45Qk3qQLS"
      },
      "source": [
        "# Changes\n",
        "\n",
        "run_command_line.py => \n",
        "\n",
        "in main() \n",
        "\n",
        "parser.add_argument('--image',default='c2.png')\n",
        "parser.add_argument('--config',default='configuration.ini')\n",
        "\n",
        "text_recognition.py => \n",
        "\n",
        "by PyTessBaseAPI()\n",
        "\n",
        "\n",
        "PyTessBaseAPI(path='/usr/share/tesseract-ocr/4.00/tessdata',psm=PSM.AUTO_OSD, oem=OEM.LSTM_ONLY) as api:"
      ]
    },
    {
      "cell_type": "code",
      "metadata": {
        "id": "41mOAy-6gN4V",
        "colab_type": "code",
        "colab": {
          "base_uri": "https://localhost:8080/",
          "height": 136
        },
        "outputId": "3c5936e4-f999-4851-edc4-9e6ad529984c"
      },
      "source": [
        "!unzip StraboDependency.zip"
      ],
      "execution_count": 72,
      "outputs": [
        {
          "output_type": "stream",
          "text": [
            "Archive:  StraboDependency.zip\n",
            "   creating: east_icdar2015_resnet_v1_50_rbox/\n",
            "  inflating: east_icdar2015_resnet_v1_50_rbox/checkpoint  \n",
            "  inflating: east_icdar2015_resnet_v1_50_rbox/model.ckpt-49491.data-00000-of-00001  \n",
            "  inflating: east_icdar2015_resnet_v1_50_rbox/model.ckpt-49491.index  \n",
            "  inflating: east_icdar2015_resnet_v1_50_rbox/model.ckpt-49491.meta  \n",
            "  inflating: text-detection-requirements.txt  \n"
          ],
          "name": "stdout"
        }
      ]
    },
    {
      "cell_type": "code",
      "metadata": {
        "id": "0RJAyATljk5N",
        "colab_type": "code",
        "colab": {}
      },
      "source": [
        "from google.colab import drive\n",
        "drive.mount('/content/drive')"
      ],
      "execution_count": 0,
      "outputs": []
    },
    {
      "cell_type": "code",
      "metadata": {
        "id": "VRnNg4RGxs7g",
        "colab_type": "code",
        "colab": {
          "base_uri": "https://localhost:8080/",
          "height": 34
        },
        "outputId": "9a1fec05-e192-4c1f-c678-eb71c48e8823"
      },
      "source": [
        "!pwd"
      ],
      "execution_count": 17,
      "outputs": [
        {
          "output_type": "stream",
          "text": [
            "/content\n"
          ],
          "name": "stdout"
        }
      ]
    },
    {
      "cell_type": "code",
      "metadata": {
        "id": "sPI8qwXda5nJ",
        "colab_type": "code",
        "colab": {
          "base_uri": "https://localhost:8080/",
          "height": 1000
        },
        "outputId": "db710a7e-f57f-494e-cdf0-b1f9984fddcb"
      },
      "source": [
        "!sudo apt-get install python3-dev\n",
        "!sudo apt-get install software-properties-common\n",
        "!sudo apt-get install libgeos-dev\n",
        "!sudo pip3 install -r text-detection-requirements.txt\n",
        "!sudo add-apt-repository -y ppa:alex-p/tesseract-ocr\n",
        "!sudo apt-get update\n",
        "#!sudo vi /etc/apt/sources.list\n",
        "\n",
        "# Copy the first line \"deb http://archive.ubuntu.com/ubuntu bionic main\" and paste it as shown below on the next line.\n",
        "# If you are using a different release of ubuntu, then replace bionic with the respective release name.\n",
        "!sudo apt install -y libtesseract-dev libleptonica-dev liblept5\n",
        "#!deb http://archive.ubuntu.com/ubuntu bionic universe\n",
        "!sudo apt install -y tesseract-ocr\n",
        "!sudo pip3 install git+https://github.com/spatial-computing/tesserocr\n",
        "#!git clone https://github.com/spatial-computing/strabo-text-recognition-deep-learning.git\n",
        "!export LC_ALL=C"
      ],
      "execution_count": 18,
      "outputs": [
        {
          "output_type": "stream",
          "text": [
            "Reading package lists... Done\n",
            "Building dependency tree       \n",
            "Reading state information... Done\n",
            "python3-dev is already the newest version (3.6.7-1~18.04).\n",
            "0 upgraded, 0 newly installed, 0 to remove and 97 not upgraded.\n",
            "Reading package lists... Done\n",
            "Building dependency tree       \n",
            "Reading state information... Done\n",
            "software-properties-common is already the newest version (0.96.24.32.12).\n",
            "0 upgraded, 0 newly installed, 0 to remove and 97 not upgraded.\n",
            "Reading package lists... Done\n",
            "Building dependency tree       \n",
            "Reading state information... Done\n",
            "libgeos-dev is already the newest version (3.6.2-1build2).\n",
            "0 upgraded, 0 newly installed, 0 to remove and 97 not upgraded.\n",
            "Requirement already satisfied: opencv-python==4.0.0.21 in /usr/local/lib/python3.6/dist-packages (from -r text-detection-requirements.txt (line 1)) (4.0.0.21)\n",
            "Requirement already satisfied: tensorflow==1.4 in /usr/local/lib/python3.6/dist-packages (from -r text-detection-requirements.txt (line 2)) (1.4.0)\n",
            "Requirement already satisfied: Shapely==1.5.17 in /usr/local/lib/python3.6/dist-packages (from -r text-detection-requirements.txt (line 3)) (1.5.17)\n",
            "Requirement already satisfied: Flask==1.0.2 in /usr/local/lib/python3.6/dist-packages (from -r text-detection-requirements.txt (line 4)) (1.0.2)\n",
            "Requirement already satisfied: matplotlib==3.0.3 in /usr/local/lib/python3.6/dist-packages (from -r text-detection-requirements.txt (line 5)) (3.0.3)\n",
            "Requirement already satisfied: scipy==0.19.0 in /usr/local/lib/python3.6/dist-packages (from -r text-detection-requirements.txt (line 6)) (0.19.0)\n",
            "Requirement already satisfied: plumbum==1.6.7 in /usr/local/lib/python3.6/dist-packages (from -r text-detection-requirements.txt (line 7)) (1.6.7)\n",
            "Requirement already satisfied: numpy==1.14.3 in /usr/local/lib/python3.6/dist-packages (from -r text-detection-requirements.txt (line 8)) (1.14.3)\n",
            "Requirement already satisfied: ipython==6.3.0 in /usr/local/lib/python3.6/dist-packages (from -r text-detection-requirements.txt (line 9)) (6.3.0)\n",
            "Requirement already satisfied: Pillow==5.2.0 in /usr/local/lib/python3.6/dist-packages (from -r text-detection-requirements.txt (line 10)) (5.2.0)\n",
            "Requirement already satisfied: protobuf>=3.3.0 in /usr/local/lib/python3.6/dist-packages (from tensorflow==1.4->-r text-detection-requirements.txt (line 2)) (3.10.0)\n",
            "Requirement already satisfied: six>=1.10.0 in /usr/local/lib/python3.6/dist-packages (from tensorflow==1.4->-r text-detection-requirements.txt (line 2)) (1.12.0)\n",
            "Requirement already satisfied: enum34>=1.1.6 in /usr/local/lib/python3.6/dist-packages (from tensorflow==1.4->-r text-detection-requirements.txt (line 2)) (1.1.10)\n",
            "Requirement already satisfied: tensorflow-tensorboard<0.5.0,>=0.4.0rc1 in /usr/local/lib/python3.6/dist-packages (from tensorflow==1.4->-r text-detection-requirements.txt (line 2)) (0.4.0)\n",
            "Requirement already satisfied: wheel>=0.26 in /usr/local/lib/python3.6/dist-packages (from tensorflow==1.4->-r text-detection-requirements.txt (line 2)) (0.34.2)\n",
            "Requirement already satisfied: Jinja2>=2.10 in /usr/local/lib/python3.6/dist-packages (from Flask==1.0.2->-r text-detection-requirements.txt (line 4)) (2.11.1)\n",
            "Requirement already satisfied: itsdangerous>=0.24 in /usr/local/lib/python3.6/dist-packages (from Flask==1.0.2->-r text-detection-requirements.txt (line 4)) (1.1.0)\n",
            "Requirement already satisfied: click>=5.1 in /usr/local/lib/python3.6/dist-packages (from Flask==1.0.2->-r text-detection-requirements.txt (line 4)) (7.1.1)\n",
            "Requirement already satisfied: Werkzeug>=0.14 in /usr/local/lib/python3.6/dist-packages (from Flask==1.0.2->-r text-detection-requirements.txt (line 4)) (1.0.0)\n",
            "Requirement already satisfied: python-dateutil>=2.1 in /usr/local/lib/python3.6/dist-packages (from matplotlib==3.0.3->-r text-detection-requirements.txt (line 5)) (2.8.1)\n",
            "Requirement already satisfied: pyparsing!=2.0.4,!=2.1.2,!=2.1.6,>=2.0.1 in /usr/local/lib/python3.6/dist-packages (from matplotlib==3.0.3->-r text-detection-requirements.txt (line 5)) (2.4.6)\n",
            "Requirement already satisfied: kiwisolver>=1.0.1 in /usr/local/lib/python3.6/dist-packages (from matplotlib==3.0.3->-r text-detection-requirements.txt (line 5)) (1.1.0)\n",
            "Requirement already satisfied: cycler>=0.10 in /usr/local/lib/python3.6/dist-packages (from matplotlib==3.0.3->-r text-detection-requirements.txt (line 5)) (0.10.0)\n",
            "Requirement already satisfied: backcall in /usr/local/lib/python3.6/dist-packages (from ipython==6.3.0->-r text-detection-requirements.txt (line 9)) (0.1.0)\n",
            "Requirement already satisfied: pickleshare in /usr/local/lib/python3.6/dist-packages (from ipython==6.3.0->-r text-detection-requirements.txt (line 9)) (0.7.5)\n",
            "Requirement already satisfied: simplegeneric>0.8 in /usr/local/lib/python3.6/dist-packages (from ipython==6.3.0->-r text-detection-requirements.txt (line 9)) (0.8.1)\n",
            "Requirement already satisfied: pygments in /usr/local/lib/python3.6/dist-packages (from ipython==6.3.0->-r text-detection-requirements.txt (line 9)) (2.1.3)\n",
            "Requirement already satisfied: prompt-toolkit<2.0.0,>=1.0.15 in /usr/local/lib/python3.6/dist-packages (from ipython==6.3.0->-r text-detection-requirements.txt (line 9)) (1.0.18)\n",
            "Requirement already satisfied: decorator in /usr/local/lib/python3.6/dist-packages (from ipython==6.3.0->-r text-detection-requirements.txt (line 9)) (4.4.2)\n",
            "Requirement already satisfied: pexpect; sys_platform != \"win32\" in /usr/local/lib/python3.6/dist-packages (from ipython==6.3.0->-r text-detection-requirements.txt (line 9)) (4.8.0)\n",
            "Requirement already satisfied: traitlets>=4.2 in /usr/local/lib/python3.6/dist-packages (from ipython==6.3.0->-r text-detection-requirements.txt (line 9)) (4.3.3)\n",
            "Requirement already satisfied: setuptools>=18.5 in /usr/local/lib/python3.6/dist-packages (from ipython==6.3.0->-r text-detection-requirements.txt (line 9)) (45.2.0)\n",
            "Requirement already satisfied: jedi>=0.10 in /usr/local/lib/python3.6/dist-packages (from ipython==6.3.0->-r text-detection-requirements.txt (line 9)) (0.16.0)\n",
            "Requirement already satisfied: markdown>=2.6.8 in /usr/local/lib/python3.6/dist-packages (from tensorflow-tensorboard<0.5.0,>=0.4.0rc1->tensorflow==1.4->-r text-detection-requirements.txt (line 2)) (3.2.1)\n",
            "Requirement already satisfied: html5lib==0.9999999 in /usr/local/lib/python3.6/dist-packages (from tensorflow-tensorboard<0.5.0,>=0.4.0rc1->tensorflow==1.4->-r text-detection-requirements.txt (line 2)) (0.9999999)\n",
            "Requirement already satisfied: bleach==1.5.0 in /usr/local/lib/python3.6/dist-packages (from tensorflow-tensorboard<0.5.0,>=0.4.0rc1->tensorflow==1.4->-r text-detection-requirements.txt (line 2)) (1.5.0)\n",
            "Requirement already satisfied: MarkupSafe>=0.23 in /usr/local/lib/python3.6/dist-packages (from Jinja2>=2.10->Flask==1.0.2->-r text-detection-requirements.txt (line 4)) (1.1.1)\n",
            "Requirement already satisfied: wcwidth in /usr/local/lib/python3.6/dist-packages (from prompt-toolkit<2.0.0,>=1.0.15->ipython==6.3.0->-r text-detection-requirements.txt (line 9)) (0.1.8)\n",
            "Requirement already satisfied: ptyprocess>=0.5 in /usr/local/lib/python3.6/dist-packages (from pexpect; sys_platform != \"win32\"->ipython==6.3.0->-r text-detection-requirements.txt (line 9)) (0.6.0)\n",
            "Requirement already satisfied: ipython-genutils in /usr/local/lib/python3.6/dist-packages (from traitlets>=4.2->ipython==6.3.0->-r text-detection-requirements.txt (line 9)) (0.2.0)\n",
            "Requirement already satisfied: parso>=0.5.2 in /usr/local/lib/python3.6/dist-packages (from jedi>=0.10->ipython==6.3.0->-r text-detection-requirements.txt (line 9)) (0.6.2)\n",
            "Hit:1 https://cloud.r-project.org/bin/linux/ubuntu bionic-cran35/ InRelease\n",
            "Ign:2 https://developer.download.nvidia.com/compute/cuda/repos/ubuntu1804/x86_64  InRelease\n",
            "Hit:3 http://ppa.launchpad.net/alex-p/tesseract-ocr/ubuntu bionic InRelease\n",
            "Hit:4 http://security.ubuntu.com/ubuntu bionic-security InRelease\n",
            "Hit:5 http://archive.ubuntu.com/ubuntu bionic InRelease\n",
            "Ign:6 https://developer.download.nvidia.com/compute/machine-learning/repos/ubuntu1804/x86_64  InRelease\n",
            "Hit:7 https://developer.download.nvidia.com/compute/cuda/repos/ubuntu1804/x86_64  Release\n",
            "Hit:8 https://developer.download.nvidia.com/compute/machine-learning/repos/ubuntu1804/x86_64  Release\n",
            "Hit:9 http://archive.ubuntu.com/ubuntu bionic-updates InRelease\n",
            "Hit:10 http://ppa.launchpad.net/graphics-drivers/ppa/ubuntu bionic InRelease\n",
            "Get:11 http://archive.ubuntu.com/ubuntu bionic-backports InRelease [74.6 kB]\n",
            "Hit:13 http://ppa.launchpad.net/marutter/c2d4u3.5/ubuntu bionic InRelease\n",
            "Fetched 74.6 kB in 1s (72.9 kB/s)\n",
            "Reading package lists... Done\n",
            "Hit:1 https://cloud.r-project.org/bin/linux/ubuntu bionic-cran35/ InRelease\n",
            "Ign:2 https://developer.download.nvidia.com/compute/cuda/repos/ubuntu1804/x86_64  InRelease\n",
            "Hit:3 http://security.ubuntu.com/ubuntu bionic-security InRelease\n",
            "Hit:4 http://ppa.launchpad.net/alex-p/tesseract-ocr/ubuntu bionic InRelease\n",
            "Ign:5 https://developer.download.nvidia.com/compute/machine-learning/repos/ubuntu1804/x86_64  InRelease\n",
            "Hit:6 https://developer.download.nvidia.com/compute/cuda/repos/ubuntu1804/x86_64  Release\n",
            "Hit:7 https://developer.download.nvidia.com/compute/machine-learning/repos/ubuntu1804/x86_64  Release\n",
            "Hit:8 http://archive.ubuntu.com/ubuntu bionic InRelease\n",
            "Hit:9 http://archive.ubuntu.com/ubuntu bionic-updates InRelease\n",
            "Hit:10 http://ppa.launchpad.net/graphics-drivers/ppa/ubuntu bionic InRelease\n",
            "Get:12 http://archive.ubuntu.com/ubuntu bionic-backports InRelease [74.6 kB]\n",
            "Hit:14 http://ppa.launchpad.net/marutter/c2d4u3.5/ubuntu bionic InRelease\n",
            "Fetched 74.6 kB in 1s (71.1 kB/s)\n",
            "Reading package lists... Done\n",
            "Reading package lists... Done\n",
            "Building dependency tree       \n",
            "Reading state information... Done\n",
            "liblept5 is already the newest version (1.78.0-1+nmu1ppa1~bionic1).\n",
            "liblept5 set to manually installed.\n",
            "libleptonica-dev is already the newest version (1.78.0-1+nmu1ppa1~bionic1).\n",
            "libtesseract-dev is already the newest version (4.1.1-2ppa1~bionic1).\n",
            "0 upgraded, 0 newly installed, 0 to remove and 97 not upgraded.\n",
            "Reading package lists... Done\n",
            "Building dependency tree       \n",
            "Reading state information... Done\n",
            "tesseract-ocr is already the newest version (4.1.1-2ppa1~bionic1).\n",
            "0 upgraded, 0 newly installed, 0 to remove and 97 not upgraded.\n",
            "Collecting git+https://github.com/spatial-computing/tesserocr\n",
            "  Cloning https://github.com/spatial-computing/tesserocr to /tmp/pip-req-build-jx79jw7p\n",
            "  Running command git clone -q https://github.com/spatial-computing/tesserocr /tmp/pip-req-build-jx79jw7p\n",
            "Requirement already satisfied (use --upgrade to upgrade): tesserocr==2.4.0 from git+https://github.com/spatial-computing/tesserocr in /usr/local/lib/python3.6/dist-packages\n",
            "Building wheels for collected packages: tesserocr\n",
            "  Building wheel for tesserocr (setup.py) ... \u001b[?25l\u001b[?25hdone\n",
            "  Created wheel for tesserocr: filename=tesserocr-2.4.0-cp36-cp36m-linux_x86_64.whl size=598357 sha256=16a7c08d1e4cc93679753c56babad5cfa9ac3901b016afc43d1cd0f9fb0cd318\n",
            "  Stored in directory: /tmp/pip-ephem-wheel-cache-8wt18t4j/wheels/30/e7/6d/00616b0351f36d7fb017c563719ee9ffe59c63f4a77035b08c\n",
            "Successfully built tesserocr\n"
          ],
          "name": "stdout"
        }
      ]
    },
    {
      "cell_type": "code",
      "metadata": {
        "id": "f94PFM-5A2nM",
        "colab_type": "code",
        "colab": {
          "base_uri": "https://localhost:8080/",
          "height": 34
        },
        "outputId": "80a42f51-f300-48b1-ac70-08b1a15bb899"
      },
      "source": [
        "%cd strabo-text-recognition-deep-learning/"
      ],
      "execution_count": 36,
      "outputs": [
        {
          "output_type": "stream",
          "text": [
            "/content/strabo-text-recognition-deep-learning\n"
          ],
          "name": "stdout"
        }
      ]
    },
    {
      "cell_type": "code",
      "metadata": {
        "id": "Xb6DuJV1o24u",
        "colab_type": "code",
        "colab": {
          "base_uri": "https://localhost:8080/",
          "height": 1000
        },
        "outputId": "56917955-8c5e-4c04-d355-ef727ac62f6a"
      },
      "source": [
        "!python3 run_command_line.py "
      ],
      "execution_count": 38,
      "outputs": [
        {
          "output_type": "stream",
          "text": [
            "c2.png\n",
            "defaultdict(<class 'int'>, {'result_path': 'static/results/test2'})\n",
            "c2.png\n",
            "image name is c2.png\n",
            "WARNING:tensorflow:\n",
            "The TensorFlow contrib module will not be included in TensorFlow 2.0.\n",
            "For more information, please see:\n",
            "  * https://github.com/tensorflow/community/blob/master/rfcs/20180907-contrib-sunset.md\n",
            "  * https://github.com/tensorflow/addons\n",
            "  * https://github.com/tensorflow/io (for I/O related ops)\n",
            "If you depend on functionality not listed there, please file an issue.\n",
            "\n",
            "make: Entering directory '/content/strabo-text-recognition-deep-learning/lanms'\n",
            "make: 'adaptor.so' is up to date.\n",
            "make: Leaving directory '/content/strabo-text-recognition-deep-learning/lanms'\n",
            "WARNING:tensorflow:From run_command_line.py:51: The name tf.placeholder is deprecated. Please use tf.compat.v1.placeholder instead.\n",
            "\n",
            "WARNING:tensorflow:From run_command_line.py:53: The name tf.get_variable is deprecated. Please use tf.compat.v1.get_variable instead.\n",
            "\n",
            "WARNING:tensorflow:From /content/strabo-text-recognition-deep-learning/nets/resnet_utils.py:236: The name tf.GraphKeys is deprecated. Please use tf.compat.v1.GraphKeys instead.\n",
            "\n",
            "WARNING:tensorflow:From /content/strabo-text-recognition-deep-learning/nets/resnet_v1.py:181: The name tf.variable_scope is deprecated. Please use tf.compat.v1.variable_scope instead.\n",
            "\n",
            "WARNING:tensorflow:From /tensorflow-1.15.0/python3.6/tensorflow_core/contrib/layers/python/layers/layers.py:1057: Layer.apply (from tensorflow.python.keras.engine.base_layer) is deprecated and will be removed in a future version.\n",
            "Instructions for updating:\n",
            "Please use `layer.__call__` method instead.\n",
            "resnet_v1_50/block1 (?, ?, ?, 256)\n",
            "resnet_v1_50/block2 (?, ?, ?, 512)\n",
            "resnet_v1_50/block3 (?, ?, ?, 1024)\n",
            "resnet_v1_50/block4 (?, ?, ?, 2048)\n",
            "Shape of f_0 (?, ?, ?, 2048)\n",
            "Shape of f_1 (?, ?, ?, 512)\n",
            "Shape of f_2 (?, ?, ?, 256)\n",
            "Shape of f_3 (?, ?, ?, 64)\n",
            "WARNING:tensorflow:From /content/strabo-text-recognition-deep-learning/model.py:14: The name tf.image.resize_bilinear is deprecated. Please use tf.compat.v1.image.resize_bilinear instead.\n",
            "\n",
            "Shape of h_0 (?, ?, ?, 2048), g_0 (?, ?, ?, 2048)\n",
            "Shape of h_1 (?, ?, ?, 128), g_1 (?, ?, ?, 128)\n",
            "Shape of h_2 (?, ?, ?, 64), g_2 (?, ?, ?, 64)\n",
            "Shape of h_3 (?, ?, ?, 32), g_3 (?, ?, ?, 32)\n",
            "WARNING:tensorflow:From run_command_line.py:59: The name tf.train.Saver is deprecated. Please use tf.compat.v1.train.Saver instead.\n",
            "\n",
            "WARNING:tensorflow:From run_command_line.py:60: The name tf.Session is deprecated. Please use tf.compat.v1.Session instead.\n",
            "\n",
            "WARNING:tensorflow:From run_command_line.py:60: The name tf.ConfigProto is deprecated. Please use tf.compat.v1.ConfigProto instead.\n",
            "\n",
            "2020-03-18 14:38:18.680617: I tensorflow/core/platform/profile_utils/cpu_utils.cc:94] CPU Frequency: 2300000000 Hz\n",
            "2020-03-18 14:38:18.682648: I tensorflow/compiler/xla/service/service.cc:168] XLA service 0x284d100 initialized for platform Host (this does not guarantee that XLA will be used). Devices:\n",
            "2020-03-18 14:38:18.682696: I tensorflow/compiler/xla/service/service.cc:176]   StreamExecutor device (0): Host, Default Version\n",
            "2020-03-18 14:38:18.684824: I tensorflow/stream_executor/platform/default/dso_loader.cc:44] Successfully opened dynamic library libcuda.so.1\n",
            "2020-03-18 14:38:18.686982: E tensorflow/stream_executor/cuda/cuda_driver.cc:318] failed call to cuInit: CUDA_ERROR_NO_DEVICE: no CUDA-capable device is detected\n",
            "2020-03-18 14:38:18.687024: I tensorflow/stream_executor/cuda/cuda_diagnostics.cc:156] kernel driver does not appear to be running on this host (574f2875a14b): /proc/driver/nvidia/version does not exist\n",
            "here\n",
            "355 text boxes before nms\n",
            "800 text boxes before nms\n",
            "752 text boxes before nms\n",
            "static/results/test2/c2.png_31499510-6926-11ea-a8cf-0242ac1c0002/result.json\n",
            "38\n",
            "static/results/test2/c2.png_31499510-6926-11ea-a8cf-0242ac1c0002/input.png\n",
            "static/results/test2/c2.png_31499510-6926-11ea-a8cf-0242ac1c0002/output.png\n",
            "static/results/test2/c2.png_31499510-6926-11ea-a8cf-0242ac1c0002/result.png\n",
            "static/results/test2/c2.png_31499510-6926-11ea-a8cf-0242ac1c0002/geoJson1.json\n",
            "python3 text_recognition.py -i static/results/test2/c2.png_31499510-6926-11ea-a8cf-0242ac1c0002/input.png -j static/results/test2/c2.png_31499510-6926-11ea-a8cf-0242ac1c0002/geoJson1.json -o static/results/test2/c2.png_31499510-6926-11ea-a8cf-0242ac1c0002/final.txt\n",
            "31499510-6926-11ea-a8cf-0242ac1c0002\n"
          ],
          "name": "stdout"
        }
      ]
    }
  ]
}