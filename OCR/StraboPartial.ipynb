{
  "nbformat": 4,
  "nbformat_minor": 0,
  "metadata": {
    "colab": {
      "name": "Untitled8.ipynb",
      "provenance": [],
      "collapsed_sections": []
    },
    "kernelspec": {
      "name": "python3",
      "display_name": "Python 3"
    }
  },
  "cells": [
    {
      "cell_type": "code",
      "metadata": {
        "id": "QtQEoDVJgdaN",
        "colab_type": "code",
        "colab": {}
      },
      "source": [
        "!pip install pytesseract\n",
        "!sudo apt-get update\n",
        "!sudo apt-get install tesseract-ocr\n",
        "!sudo apt-get install libtesseract-dev\n",
        "!pip install deskew\n",
        "import matplotlib.pyplot as plt\n",
        "import numpy as np\n",
        "import cv2\n",
        "import pytesseract\n",
        "from PIL import Image, ImageEnhance, ImageFilter\n",
        "from skimage import io\n",
        "from skimage.transform import rotate\n",
        "from skimage.color import rgb2gray\n",
        "from deskew import determine_skew\n",
        "import os\n",
        "from math import radians, cos, sin, asin, sqrt,pi\n",
        "from pathlib import Path\n",
        "from osgeo import gdal"
      ],
      "execution_count": 0,
      "outputs": []
    },
    {
      "cell_type": "code",
      "metadata": {
        "id": "k1-Ad6_mhYI0",
        "colab_type": "code",
        "colab": {}
      },
      "source": [
        "!gdown https://drive.google.com/uc?id=1MjBMO_Ql7kth7VPPX6XkDXW4sr1qtjDV\n",
        "!gdown https://drive.google.com/uc?id=17Tat38W_M_4yaHS_dHTf2TakNaT-jQel\n",
        "!unzip StraboDependency.zip\n",
        "!sh install.sh\n",
        "!sudo apt-get install python3-dev\n",
        "!sudo apt-get install software-properties-common\n",
        "!sudo apt-get install libgeos-dev\n",
        "!sudo pip3 install -r text-detection-requirements.txt\n",
        "!sudo add-apt-repository -y ppa:alex-p/tesseract-ocr\n",
        "!sudo apt-get update\n",
        "!sudo apt install -y libtesseract-dev libleptonica-dev liblept5\n",
        "!sudo apt install -y tesseract-ocr\n",
        "!sudo pip3 install git+https://github.com/spatial-computing/tesserocr\n",
        "!export LC_ALL=C\n",
        "%cd strabo-text-recognition-deep-learning/\n",
        "!wget \"https://uob-my.sharepoint.com/:u:/g/personal/rs16175_bristol_ac_uk/ESYILU6Hu4dGoo3gfNr6rHUB75nM6zZjcTvie_3gbY74iA?download=1\" --output-document \"MapData.zip\"\n",
        "!unzip MapData.zip "
      ],
      "execution_count": 0,
      "outputs": []
    },
    {
      "cell_type": "code",
      "metadata": {
        "id": "3OLnk2rB_Pup",
        "colab_type": "code",
        "colab": {}
      },
      "source": [
        "!rm -r test"
      ],
      "execution_count": 0,
      "outputs": []
    },
    {
      "cell_type": "code",
      "metadata": {
        "id": "v_wrJu9LiqMG",
        "colab_type": "code",
        "colab": {
          "base_uri": "https://localhost:8080/",
          "height": 33
        },
        "outputId": "1b1fbcf0-72c4-4f72-ea77-e708cff016c7"
      },
      "source": [
        "%cd strabo-text-recognition-deep-learning/"
      ],
      "execution_count": 5,
      "outputs": [
        {
          "output_type": "stream",
          "text": [
            "/content/strabo-text-recognition-deep-learning\n"
          ],
          "name": "stdout"
        }
      ]
    },
    {
      "cell_type": "code",
      "metadata": {
        "id": "vyf6f4yXhwcO",
        "colab_type": "code",
        "colab": {}
      },
      "source": [
        "!unzip text_detection.zip #Rob's OCR base points\n",
        "# !wget \"https://uob-my.sharepoint.com/:u:/g/personal/rs16175_bristol_ac_uk/ESYILU6Hu4dGoo3gfNr6rHUB75nM6zZjcTvie_3gbY74iA?download=1\" --output-document \"MapData.zip\"\n",
        "# !unzip MapData.zip "
      ],
      "execution_count": 0,
      "outputs": []
    },
    {
      "cell_type": "code",
      "metadata": {
        "id": "m1VbAx_gPiF5",
        "colab_type": "code",
        "colab": {}
      },
      "source": [
        "city = \"Burnley\"\n",
        "dataBasePath = \"Sample/Raw/\"+city\n",
        "\n",
        "def findAllFileIds():\n",
        "  prjFiles = list(filter(lambda x: x.endswith(\".prj\"),os.listdir(dataBasePath)))\n",
        "  return list(map(lambda x: Path(x).stem,prjFiles))\n",
        "\n",
        "def setup():\n",
        "  fileIds = findAllFileIds()\n",
        "  for name in fileIds:\n",
        "    gdal.Translate(os.getcwd()+\"/\"+dataBasePath+\"/\"+name + '.png',\n",
        "               os.getcwd()+\"/\"+dataBasePath+\"/\"+name + '.tif',\n",
        "               options=\"-of PNG\")\n",
        "\n",
        "# setup()"
      ],
      "execution_count": 0,
      "outputs": []
    },
    {
      "cell_type": "code",
      "metadata": {
        "id": "eYhJptpkgh5s",
        "colab_type": "code",
        "colab": {}
      },
      "source": [
        "\n",
        "def allImagesToText():\n",
        "  maps = findAllFileIds()\n",
        "  for tile in maps:\n",
        "      print(tile)\n",
        "      textInTile = imageToText(tile)\n",
        "      with open(\"LatLonTextOCR/\"+city+\"/\"+tile+'.txt','a') as f:\n",
        "        for item in textInTile:\n",
        "            f.write(str(item[0])+\",\"+str(item[1])+\",\"+item[2].replace('\\n', ' ').replace('\\r', '')+\"\\n\")\n",
        "\n",
        "def imageToText(imageId):\n",
        "  with open(\"content/MapTD/data/output/\"+city+\"/\"+imageId+\".txt\", 'r') as f:\n",
        "    lines = f.readlines()\n",
        "  \n",
        "  os.mkdir(imageId)\n",
        "  latLonTuples = []\n",
        "  x = len(lines)\n",
        "  counter = 0\n",
        "  for line in lines:\n",
        "    try:\n",
        "      ctr, w, h, t = retrieveImageRequiredMetrics(line)\n",
        "      image = cv2.imread(dataBasePath+\"/\"+imageId+\".png\")\n",
        "      image = subimage(image, center=ctr, theta=t, width=w, height=h)\n",
        "      image = deskewImage(h,w,image)\n",
        "      image.save(str(imageId)+\"/\"+str(counter)+\".png\")\n",
        "      lat,lon = mapImagePixelToLatLon(ctr,imageId)\n",
        "      with open(str(imageId)+\"/\"+str(counter)+\".txt\",'a') as f:\n",
        "        f.write(str(lat)+\",\"+str(lon)+\"\\n\")\n",
        "    except Exception as e:\n",
        "      print(e)\n",
        "      pass\n",
        "    if counter % 10 == 0:\n",
        "      print(\"Line \" + str(counter) + \" of \" + str(x))\n",
        "    counter += 1\n",
        "  return latLonTuples\n",
        "\n",
        "def subimage(image, center, theta, width, height):\n",
        "   shape = ( image.shape[1], image.shape[0] )\n",
        "   matrix = cv2.getRotationMatrix2D( center=center, angle=theta, scale=1 )\n",
        "   image = cv2.warpAffine( src=image, M=matrix, dsize=shape )\n",
        "   x = int( center[0] - width/2  )\n",
        "   y = int( center[1] - height/2 )\n",
        "   image = image[ y-20:y+height+20, x-20:x+width+20 ]\n",
        "   return image\n",
        "\n",
        "def retrieveImageRequiredMetrics(textline):\n",
        "  pointsList = list(map(lambda x: int(float(x)), textline.split(\",\")[:-2]))\n",
        "  xs = pointsList[0::2]\n",
        "  ys = pointsList[1::2]\n",
        "  coords = np.array(list(zip(xs,ys)))\n",
        "  (centerX,centerY), (width,height),theta = cv2.minAreaRect(coords)\n",
        "  return (int(centerX)+1,int(centerY)+1), int(width)+1, int(height)+1, int(theta)\n",
        "\n",
        "def textFromImage(im):\n",
        "  return \"Hi\"\n",
        "  text = pytesseract.image_to_string(im)\n",
        "  return text\n",
        "\n",
        "def deskewImage(h,w,image):\n",
        "  if h > w:\n",
        "      image = np.rot90(image)\n",
        "    \n",
        "  # grayscale = rgb2gray(image)\n",
        "  # angle = determine_skew(grayscale)\n",
        "  # image = rotate(image, angle,resize=True,cval=1)\n",
        "  image = Image.fromarray(image)\n",
        "  return image"
      ],
      "execution_count": 0,
      "outputs": []
    },
    {
      "cell_type": "code",
      "metadata": {
        "id": "DvqpD_8hRQIH",
        "colab_type": "code",
        "colab": {}
      },
      "source": [
        "def mapImagePixelToLatLon(coord,imageId):\n",
        "  targetFile = dataBasePath+\"/\"+imageId\n",
        "  targetFileGeo = targetFile + \".tfw\"\n",
        "  lat,lon = getBaseLatLon()\n",
        "  Xm, Ym = convertPixelToMetreOffset(coord,targetFileGeo)\n",
        "  newLatFromBase, newLonFromBase = transformLatLonByXMetres(lat,lon,Ym,Xm)\n",
        "  return (newLatFromBase, newLonFromBase)\n",
        "\n",
        "def getBaseLatLon():\n",
        "  return 53.9153862, -2.6224470139\n",
        "\n",
        "def convertPixelToMetreOffset(coord,targetFileGeo):\n",
        "  pixelX, pixelY = coord\n",
        "  with open(targetFileGeo, 'rb') as f:\n",
        "    lines = f.readlines()\n",
        "    lonOffsetFromBase = float(lines[-1].strip())\n",
        "    latOffsetFromBase = float(lines[-2].strip())\n",
        "    yPixelsToMetres = 1 / float(lines[-3].strip())\n",
        "    xPixelsToMetres = 1 / float(lines[0].strip())\n",
        "\n",
        "    metreOffsetOnY = pixelY / yPixelsToMetres\n",
        "    metreOffsetOnX = pixelX / xPixelsToMetres\n",
        "\n",
        "    return (metreOffsetOnX+latOffsetFromBase,metreOffsetOnY+lonOffsetFromBase)\n",
        "  \n",
        "def transformLatLonByXMetres(lat,lon,dn,de):\n",
        "    R=6377563.396 #from their files\n",
        "    dLat = dn/R\n",
        "    dLon = de/(R*cos(pi*lat/180))\n",
        "    latO = lat + dLat * 180/pi\n",
        "    lonO = lon + dLon * 180/pi\n",
        "\n",
        "    return (latO,lonO)"
      ],
      "execution_count": 0,
      "outputs": []
    },
    {
      "cell_type": "code",
      "metadata": {
        "id": "jiZsOAvinCdJ",
        "colab_type": "code",
        "colab": {}
      },
      "source": [
        "import shutil\n",
        "import json\n",
        "\n",
        "def getAllTextForCity():\n",
        "  textTuples = []\n",
        "  maps = findAllFileIds()\n",
        "  shutil.rmtree(\"static/results/test2\")\n",
        "  exceptedFiles = []\n",
        "  for tile in maps:\n",
        "    try:\n",
        "      textInTile = retrieveTextWLatLonsFromImage(tile)\n",
        "    except Exception as e:\n",
        "      print(e)\n",
        "      exceptedFiles.append(tile)\n",
        "    shutil.rmtree(\"static/results/test2\")\n",
        "  return textTuples, exceptedFiles\n",
        "\n",
        "def retrieveTextWLatLonsFromImage(imageId):\n",
        "  numFiles = len(os.listdir(imageId))\n",
        "  for i in range(numFiles):\n",
        "    targetFile = str(imageId)+\"/\"+str(i)\n",
        "    targetFileImage = targetFile + \".png\"\n",
        "    !python3 run_command_line.py --image=$targetFileImage\n",
        "    text = retrieveModelOutputStrabo(targetFileImage)\n",
        "    \n",
        "    with open(str(imageId)+\"/\"+str(i)+\".txt\",'r') as f:\n",
        "      latLons = f.read()[:-1]\n",
        "    with open(\"Burnley/\"+imageId+\".txt\",'a') as f:\n",
        "      f.write(latLons+\",\"+text)\n",
        "\n",
        "  return text\n",
        "\n",
        "def retrieveModelOutputStrabo(target):\n",
        "  with open(target,'rb') as f:\n",
        "    parsed = (json.load(f))\n",
        "    strings = \" \".join(list(map(lambda x: x[['NameAfterDictionary'].replace('\\n', ' ').replace('\\r', '')],parsed['features'])))\n",
        "    return strings+\"\\n\"\n",
        "\n",
        "getAllTextForCity()"
      ],
      "execution_count": 0,
      "outputs": []
    },
    {
      "cell_type": "code",
      "metadata": {
        "id": "553yq2FnRjWR",
        "colab_type": "code",
        "outputId": "e6a283f6-ff93-49ad-ea3c-744a1ec9748d",
        "colab": {
          "base_uri": "https://localhost:8080/",
          "height": 976
        }
      },
      "source": [
        "allImagesToText()"
      ],
      "execution_count": 0,
      "outputs": [
        {
          "output_type": "stream",
          "text": [
            "1909064020211\n",
            "Line 0 of 469\n",
            "Line 10 of 469\n",
            "Line 20 of 469\n",
            "Line 30 of 469\n",
            "Line 40 of 469\n",
            "Line 50 of 469\n",
            "Line 60 of 469\n",
            "Line 70 of 469\n",
            "Line 80 of 469\n",
            "Line 90 of 469\n",
            "Line 100 of 469\n",
            "Line 110 of 469\n",
            "Line 120 of 469\n",
            "Line 130 of 469\n",
            "tile cannot extend outside image\n",
            "Line 140 of 469\n",
            "Line 150 of 469\n",
            "Line 160 of 469\n",
            "Line 170 of 469\n",
            "Line 180 of 469\n",
            "Line 190 of 469\n",
            "Line 200 of 469\n",
            "Line 210 of 469\n",
            "Line 220 of 469\n",
            "Line 230 of 469\n",
            "Line 240 of 469\n",
            "Line 250 of 469\n",
            "Line 260 of 469\n",
            "Line 270 of 469\n",
            "Line 280 of 469\n",
            "Line 290 of 469\n",
            "Line 300 of 469\n",
            "Line 310 of 469\n",
            "Line 320 of 469\n",
            "Line 330 of 469\n",
            "Line 340 of 469\n",
            "Line 350 of 469\n",
            "Line 360 of 469\n",
            "Line 370 of 469\n",
            "Line 380 of 469\n",
            "Line 390 of 469\n",
            "Line 400 of 469\n",
            "Line 410 of 469\n",
            "Line 420 of 469\n",
            "tile cannot extend outside image\n",
            "Line 430 of 469\n",
            "Line 440 of 469\n",
            "Line 450 of 469\n",
            "Line 460 of 469\n",
            "1909064010191\n",
            "Line 0 of 213\n",
            "Line 10 of 213\n",
            "Line 20 of 213\n",
            "Line 30 of 213\n",
            "Line 40 of 213\n",
            "Line 50 of 213\n",
            "Line 60 of 213\n",
            "Line 70 of 213\n"
          ],
          "name": "stdout"
        }
      ]
    }
  ]
}