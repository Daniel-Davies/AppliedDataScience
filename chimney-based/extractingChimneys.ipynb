{
  "nbformat": 4,
  "nbformat_minor": 0,
  "metadata": {
    "colab": {
      "name": "Overview of Colaboratory Features",
      "provenance": [],
      "collapsed_sections": []
    },
    "kernelspec": {
      "display_name": "Python 3",
      "name": "python3"
    }
  },
  "cells": [
    {
      "cell_type": "markdown",
      "metadata": {
        "colab_type": "text",
        "id": "JyG45Qk3qQLS"
      },
      "source": [
        "# Changes\n",
        "\n",
        "run_command_line.py => \n",
        "\n",
        "in main() \n",
        "\n",
        "parser.add_argument('--image',default='c2.png')\n",
        "parser.add_argument('--config',default='configuration.ini')\n",
        "\n",
        "checkpoint_path = '../east_icdar2015_resnet_v1_50_rbox'\n",
        "AND create that path\n",
        "\n",
        "text_recognition.py => \n",
        "\n",
        "by PyTessBaseAPI()\n",
        "\n",
        "\n",
        "PyTessBaseAPI(path='/usr/share/tesseract-ocr/4.00/tessdata',psm=PSM.AUTO_OSD, oem=OEM.LSTM_ONLY) as api:"
      ]
    },
    {
      "cell_type": "code",
      "metadata": {
        "id": "xjTt7UxJYIq0",
        "colab_type": "code",
        "colab": {}
      },
      "source": [
        "!rm -r strabo-text-recognition-deep-learning/\n",
        "#!pip install gdown\n",
        "!gdown https://drive.google.com/uc?id=1MjBMO_Ql7kth7VPPX6XkDXW4sr1qtjDV\n",
        "!gdown https://drive.google.com/open?id=17Tat38W_M_4yaHS_dHTf2TakNaT-jQel\n",
        "!sh install.sh\n",
        "!sudo apt-get install python3-dev\n",
        "!sudo apt-get install software-properties-common\n",
        "!sudo apt-get install libgeos-dev\n",
        "!sudo pip3 install -r text-detection-requirements.txt\n",
        "!sudo add-apt-repository -y ppa:alex-p/tesseract-ocr\n",
        "!sudo apt-get update\n",
        "!sudo apt install -y libtesseract-dev libleptonica-dev liblept5\n",
        "!sudo apt install -y tesseract-ocr\n",
        "!sudo pip3 install git+https://github.com/spatial-computing/tesserocr\n",
        "!export LC_ALL=C\n",
        "%cd strabo-text-recognition-deep-learning/"
      ],
      "execution_count": 0,
      "outputs": []
    },
    {
      "cell_type": "code",
      "metadata": {
        "id": "F5yBl9H2PsoP",
        "colab_type": "code",
        "colab": {}
      },
      "source": [
        "targetFile = \"pray\"\n",
        "# you can but prefix with a $\n",
        "targetFileImage = targetFile + \".png\"\n",
        "targetFileGeo = targetFile + \".tfw\"\n",
        "targetFileMeta = targetFile + \".prj\"\n",
        "# !python3 run_command_line.py --image=$targetFileImage"
      ],
      "execution_count": 0,
      "outputs": []
    },
    {
      "cell_type": "code",
      "metadata": {
        "id": "f94PFM-5A2nM",
        "colab_type": "code",
        "outputId": "e04c493a-3073-4c0c-b95a-9b8062d0f6ae",
        "colab": {
          "base_uri": "https://localhost:8080/",
          "height": 34
        }
      },
      "source": [
        "#Make Changes From Above Now\n",
        "from math import radians, cos, sin, asin, sqrt,pi\n",
        "def transformLatLonByXMetres(lat,lon,dn,de):\n",
        "    R=6377563.396 #from their files\n",
        "    dLat = dn/R\n",
        "    dLon = de/(R*cos(pi*lat/180))\n",
        "    latO = lat + dLat * 180/pi\n",
        "    lonO = lon + dLon * 180/pi\n",
        "\n",
        "    return (latO,lonO)"
      ],
      "execution_count": 124,
      "outputs": [
        {
          "output_type": "stream",
          "text": [
            "(53.80695614038061, -2.2333605268579597)\n"
          ],
          "name": "stdout"
        }
      ]
    },
    {
      "cell_type": "code",
      "metadata": {
        "id": "ukCmRIVuje_p",
        "colab_type": "code",
        "colab": {
          "base_uri": "https://localhost:8080/",
          "height": 54
        },
        "outputId": "e3d7d5e5-4d58-4060-f8fe-ec3bb590f592"
      },
      "source": [
        "## Strabo Infrastructure\n",
        "import json \n",
        "import shutil\n",
        "import os \n",
        "\n",
        "def getBaseLatLon():\n",
        "  return 53.9153862, -2.6224470139\n",
        "\n",
        "def convertPixelToMetreOffset(coord):\n",
        "  pixelX, pixelY = coord\n",
        "  with open(targetFileGeo, 'rb') as f:\n",
        "    lines = f.readlines()\n",
        "    lonOffsetFromBase = float(lines[-1].strip())\n",
        "    latOffsetFromBase = float(lines[-2].strip())\n",
        "    yPixelsToMetres = 1 / float(lines[-3].strip())\n",
        "    xPixelsToMetres = 1 / float(lines[0].strip())\n",
        "\n",
        "    metreOffsetOnY = pixelY / yPixelsToMetres\n",
        "    metreOffsetOnX = pixelX / xPixelsToMetres\n",
        "\n",
        "    return (metreOffsetOnX+latOffsetFromBase,metreOffsetOnY+lonOffsetFromBase)\n",
        "\n",
        "def mapImagePixelToLatLon(coord):\n",
        "  lat,lon = getBaseLatLon()\n",
        "  Xm, Ym = convertPixelToMetreOffset(coord)\n",
        "  newLatFromBase, newLonFromBase = transformLatLonByXMetres(lat,lon,Ym,Xm)\n",
        "  return newLatFromBase, newLonFromBase\n",
        "\n",
        "def mapBboxToSingleCoord(bboxCoords):\n",
        "  xs = list(map(lambda x: x[0], bboxCoords))\n",
        "  ys = list(map(lambda x: x[1], bboxCoords))\n",
        "\n",
        "  avX = (min(xs) + max(xs)) / 2\n",
        "  avY = (min(ys) + max(ys)) / 2\n",
        "\n",
        "  return (avX,avY)\n",
        "\n",
        "def isChimney(proposalString):\n",
        "  return \"Chimney\" in proposalString\n",
        "\n",
        "def locateChimneyPixelsInStraboJson(finalJson):\n",
        "  featureList = finalJson[\"features\"]\n",
        "  featuresOfInterest = list(filter(lambda x: isChimney(x[\"NameAfterDictionary\"]),featureList))\n",
        "  bboxes = []\n",
        "  for entry in featuresOfInterest:\n",
        "    uniqueCoords = (list(set(list(map(lambda x: (x[0],x[1]),entry['geometry']['coordinates'][0])))))\n",
        "    if len(uniqueCoords) == 4:\n",
        "      bboxes.append(uniqueCoords)\n",
        "  \n",
        "  return bboxes\n",
        "\n",
        "def retrieveModelOutputStrabo():\n",
        "  basePath = \"static/results/\"\n",
        "  topLevelName =  basePath+os.listdir(basePath)[0]+\"/\"\n",
        "  resultBase = topLevelName+list(filter(lambda x: os.path.isdir(topLevelName+x),os.listdir(topLevelName)))[0]\n",
        "  with open(resultBase+\"/final.txt\",'rb') as f:\n",
        "    parsed = (json.load(f))\n",
        "  # shutil.rmtree(topLevelName)\n",
        "  bboxChimneyLocations = (locateChimneyPixelsInStraboJson(parsed))\n",
        "  singleXY = list(map(lambda x: mapBboxToSingleCoord(x),bboxChimneyLocations))\n",
        "  latLonChimneyPoints = list(map(lambda x: mapImagePixelToLatLon(x),singleXY))\n",
        "  print(latLonChimneyPoints)\n",
        "\n",
        "def retrieveChimneyLatLonsFromImage():\n",
        "  chimneyPixels = retrieveModelOutputStrabo()\n",
        "\n",
        "retrieveChimneyLatLonsFromImage()"
      ],
      "execution_count": 128,
      "outputs": [
        {
          "output_type": "stream",
          "text": [
            "[(53.78968024848036, -2.2709771291072096), (53.789568238182945, -2.2709868190952593), (53.78979644963923, -2.2709415991510276), (53.78926630566357, -2.270738755401188)]\n"
          ],
          "name": "stdout"
        }
      ]
    },
    {
      "cell_type": "code",
      "metadata": {
        "id": "h6KyJBF2w--L",
        "colab_type": "code",
        "colab": {
          "base_uri": "https://localhost:8080/",
          "height": 34
        },
        "outputId": "7e890eef-88c3-4076-973e-2c706d184e2b"
      },
      "source": [
        "retrieveChimneyLatLonsFromImage()"
      ],
      "execution_count": 65,
      "outputs": [
        {
          "output_type": "stream",
          "text": [
            "<generator object walk at 0x7f1289d4edb0>\n"
          ],
          "name": "stdout"
        }
      ]
    },
    {
      "cell_type": "code",
      "metadata": {
        "id": "EsfXVgOSv80g",
        "colab_type": "code",
        "colab": {
          "base_uri": "https://localhost:8080/",
          "height": 248
        },
        "outputId": "8c0c3afd-6b31-4297-f8d5-5764039ec8b6"
      },
      "source": [
        "retrieveChimneyLatLonsFromImage()"
      ],
      "execution_count": 63,
      "outputs": [
        {
          "output_type": "error",
          "ename": "TypeError",
          "evalue": "ignored",
          "traceback": [
            "\u001b[0;31m---------------------------------------------------------------------------\u001b[0m",
            "\u001b[0;31mTypeError\u001b[0m                                 Traceback (most recent call last)",
            "\u001b[0;32m<ipython-input-63-35ce96ff9307>\u001b[0m in \u001b[0;36m<module>\u001b[0;34m()\u001b[0m\n\u001b[0;32m----> 1\u001b[0;31m \u001b[0mretrieveChimneyLatLonsFromImage\u001b[0m\u001b[0;34m(\u001b[0m\u001b[0;34m)\u001b[0m\u001b[0;34m\u001b[0m\u001b[0;34m\u001b[0m\u001b[0m\n\u001b[0m",
            "\u001b[0;32m<ipython-input-58-98262c6f19ce>\u001b[0m in \u001b[0;36mretrieveChimneyLatLonsFromImage\u001b[0;34m()\u001b[0m\n\u001b[1;32m      9\u001b[0m \u001b[0;34m\u001b[0m\u001b[0m\n\u001b[1;32m     10\u001b[0m \u001b[0;32mdef\u001b[0m \u001b[0mretrieveChimneyLatLonsFromImage\u001b[0m\u001b[0;34m(\u001b[0m\u001b[0;34m)\u001b[0m\u001b[0;34m:\u001b[0m\u001b[0;34m\u001b[0m\u001b[0;34m\u001b[0m\u001b[0m\n\u001b[0;32m---> 11\u001b[0;31m   \u001b[0mchimneyPixels\u001b[0m \u001b[0;34m=\u001b[0m \u001b[0mretrieveModelOutputStrabo\u001b[0m\u001b[0;34m(\u001b[0m\u001b[0;34m)\u001b[0m\u001b[0;34m\u001b[0m\u001b[0;34m\u001b[0m\u001b[0m\n\u001b[0m",
            "\u001b[0;31mTypeError\u001b[0m: retrieveModelOutputStrabo() missing 1 required positional argument: 'filename'"
          ]
        }
      ]
    },
    {
      "cell_type": "code",
      "metadata": {
        "id": "Xb6DuJV1o24u",
        "colab_type": "code",
        "outputId": "e0e691f9-3106-4937-c867-1b11368176b3",
        "colab": {
          "base_uri": "https://localhost:8080/",
          "height": 598
        }
      },
      "source": [
        "!python3 run_command_line.py  --image=\"pray.png\""
      ],
      "execution_count": 35,
      "outputs": [
        {
          "output_type": "stream",
          "text": [
            "../imgs/pray.png\n",
            "defaultdict(<class 'int'>, {'result_path': 'static/results/test2'})\n",
            "image name is ../imgs/pray.png\n",
            "/usr/lib/python3.6/importlib/_bootstrap.py:219: RuntimeWarning: compiletime version 3.5 of module 'tensorflow.python.framework.fast_tensor_util' does not match runtime version 3.6\n",
            "  return f(*args, **kwds)\n",
            "make: Entering directory '/content/strabo-text-recognition-deep-learning/lanms'\n",
            "make: 'adaptor.so' is up to date.\n",
            "make: Leaving directory '/content/strabo-text-recognition-deep-learning/lanms'\n",
            "resnet_v1_50/block1 (?, ?, ?, 256)\n",
            "resnet_v1_50/block2 (?, ?, ?, 512)\n",
            "resnet_v1_50/block3 (?, ?, ?, 1024)\n",
            "resnet_v1_50/block4 (?, ?, ?, 2048)\n",
            "Shape of f_0 (?, ?, ?, 2048)\n",
            "Shape of f_1 (?, ?, ?, 512)\n",
            "Shape of f_2 (?, ?, ?, 256)\n",
            "Shape of f_3 (?, ?, ?, 64)\n",
            "Shape of h_0 (?, ?, ?, 2048), g_0 (?, ?, ?, 2048)\n",
            "Shape of h_1 (?, ?, ?, 128), g_1 (?, ?, ?, 128)\n",
            "Shape of h_2 (?, ?, ?, 64), g_2 (?, ?, ?, 64)\n",
            "Shape of h_3 (?, ?, ?, 32), g_3 (?, ?, ?, 32)\n",
            "2020-04-20 17:33:18.809463: I tensorflow/core/platform/cpu_feature_guard.cc:137] Your CPU supports instructions that this TensorFlow binary was not compiled to use: SSE4.1 SSE4.2 AVX AVX2 FMA\n",
            "here\n",
            "430 text boxes before nms\n",
            "281 text boxes before nms\n",
            "262 text boxes before nms\n",
            "static/results/test2/../imgs/pray.png_4f8d0a36-832d-11ea-8a31-0242ac1c0002/result.json\n",
            "51\n",
            "static/results/test2/../imgs/pray.png_4f8d0a36-832d-11ea-8a31-0242ac1c0002/input.png\n",
            "static/results/test2/../imgs/pray.png_4f8d0a36-832d-11ea-8a31-0242ac1c0002/output.png\n",
            "static/results/test2/../imgs/pray.png_4f8d0a36-832d-11ea-8a31-0242ac1c0002/result.png\n",
            "static/results/test2/../imgs/pray.png_4f8d0a36-832d-11ea-8a31-0242ac1c0002/geoJson1.json\n",
            "python3 text_recognition.py -i static/results/test2/../imgs/pray.png_4f8d0a36-832d-11ea-8a31-0242ac1c0002/input.png -j static/results/test2/../imgs/pray.png_4f8d0a36-832d-11ea-8a31-0242ac1c0002/geoJson1.json -o static/results/test2/../imgs/pray.png_4f8d0a36-832d-11ea-8a31-0242ac1c0002/final.txt\n",
            "4f8d0a36-832d-11ea-8a31-0242ac1c0002\n"
          ],
          "name": "stdout"
        }
      ]
    }
  ]
}